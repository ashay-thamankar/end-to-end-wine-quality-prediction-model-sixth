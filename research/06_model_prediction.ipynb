{
 "cells": [
  {
   "cell_type": "code",
   "execution_count": 1,
   "metadata": {},
   "outputs": [],
   "source": [
    "import os"
   ]
  },
  {
   "cell_type": "code",
   "execution_count": 2,
   "metadata": {},
   "outputs": [
    {
     "data": {
      "text/plain": [
       "'f:\\\\Anaconda Projects\\\\end to end wine quality sixth\\\\end-to-end-wine-quality-fifth\\\\research'"
      ]
     },
     "execution_count": 2,
     "metadata": {},
     "output_type": "execute_result"
    }
   ],
   "source": [
    "%pwd"
   ]
  },
  {
   "cell_type": "code",
   "execution_count": 3,
   "metadata": {},
   "outputs": [],
   "source": [
    "os.chdir('../')"
   ]
  },
  {
   "cell_type": "code",
   "execution_count": 4,
   "metadata": {},
   "outputs": [
    {
     "data": {
      "text/plain": [
       "'f:\\\\Anaconda Projects\\\\end to end wine quality sixth\\\\end-to-end-wine-quality-fifth'"
      ]
     },
     "execution_count": 4,
     "metadata": {},
     "output_type": "execute_result"
    }
   ],
   "source": [
    "%pwd"
   ]
  },
  {
   "cell_type": "code",
   "execution_count": 5,
   "metadata": {},
   "outputs": [],
   "source": [
    "from dataclasses import dataclass\n",
    "from pathlib import Path\n",
    "\n",
    "@dataclass(frozen=True)\n",
    "class ModelPredictionConfig:\n",
    "    model_path: Path\n",
    "    preprocessor_path: Path\n",
    "    params_path: Path\n",
    "    train_array_path: Path"
   ]
  },
  {
   "cell_type": "code",
   "execution_count": 6,
   "metadata": {},
   "outputs": [
    {
     "name": "stdout",
     "output_type": "stream",
     "text": [
      "[2024-01-27 12:40:17,330: INFO: utils: NumExpr defaulting to 4 threads.]\n"
     ]
    }
   ],
   "source": [
    "from mlProject.constants import *\n",
    "from mlProject.utils.common import read_yaml, create_directories\n",
    "\n",
    "class ConfigurationManager:\n",
    "    def __init__(self,\n",
    "                 config_filepath = CONFIG_FILE_PATH,\n",
    "                 params_filepath = PARAMS_FILE_PATH,\n",
    "                 schema_filepath = SCHEME_FILE_PATH):\n",
    "        self.config = read_yaml(config_filepath)\n",
    "        self.params = read_yaml(params_filepath)\n",
    "        self.schema = read_yaml(schema_filepath)\n",
    "\n",
    "        create_directories([self.config.artifacts_root])\n",
    "\n",
    "    def get_model_prediction_config(self) -> ModelPredictionConfig:\n",
    "        config = self.config.model_prediction\n",
    "\n",
    "        model_prediction_config = ModelPredictionConfig(\n",
    "            model_path= config.model_path,\n",
    "            preprocessor_path=config.preprocessor_path,\n",
    "            params_path=config.params_path,\n",
    "            train_array_path=config.train_array_path\n",
    "            \n",
    "        )\n",
    "        return model_prediction_config\n"
   ]
  },
  {
   "cell_type": "code",
   "execution_count": 20,
   "metadata": {},
   "outputs": [],
   "source": [
    "from ensure import ensure_annotations\n",
    "import joblib\n",
    "from pathlib import Path\n",
    "\n",
    "def save_object(file_path, obj):\n",
    "    try:\n",
    "        dir_path = os.path.dirname(file_path)\n",
    "        os.makedirs(dir_path, exist_ok=True)\n",
    "\n",
    "        with open(file_path, 'wb') as file_obj:\n",
    "            joblib.dump(obj, file_obj)\n",
    "\n",
    "    except Exception as e:\n",
    "        raise e\n",
    "@ensure_annotations\n",
    "def load_object(file_path: Path):\n",
    "    try:\n",
    "        with open(file_path, 'rb') as file_obj:\n",
    "            return joblib.load(file_obj)\n",
    "    except Exception as e:\n",
    "        raise e"
   ]
  },
  {
   "cell_type": "code",
   "execution_count": 22,
   "metadata": {},
   "outputs": [],
   "source": [
    "import pandas as pd\n",
    "\n",
    "class ModelPrediction:\n",
    "    def __init__(self, config: ModelPredictionConfig):\n",
    "        self.config = config\n",
    "\n",
    "    def get_data_as_data_frame(self, fixed_acidity: float, \n",
    "                 volatile_acidity: float, \n",
    "                 citric_acid: float, \n",
    "                 residual_sugar: float,\n",
    "                 chlorides: float,\n",
    "                 free_sulfur_dioxide: float,\n",
    "                 total_sulfur_dioxide: float,\n",
    "                 density: float,\n",
    "                 pH: float,\n",
    "                 sulphates: float,\n",
    "                 alcohol: float):\n",
    "        try:\n",
    "            custom_data_input_dict = {\n",
    "                \"fixed_acidity\": [fixed_acidity],\n",
    "                \"volatile_acidity\": [volatile_acidity],\n",
    "                \"citric_acid\": [citric_acid],\n",
    "                \"residual_sugar\": [residual_sugar],\n",
    "                \"chlorides\": [chlorides],\n",
    "                \"free_sulfur_dioxide\": [free_sulfur_dioxide],\n",
    "                \"total_sulfur_dioxide\": [total_sulfur_dioxide],\n",
    "                \"density\": [density],\n",
    "                \"pH\": [pH],\n",
    "                \"sulphates\": [sulphates],\n",
    "                \"alcohol\": [alcohol]\n",
    "            }\n",
    "            return pd.DataFrame(custom_data_input_dict)\n",
    "        except Exception as e:\n",
    "            raise e\n",
    "\n",
    "    def predict_data(self, features):\n",
    "        try:\n",
    "            model_path = Path(self.config.model_path)\n",
    "            preprocessor_path = Path(self.config.preprocessor_path)\n",
    "            best_params_path = Path(self.config.params_path)\n",
    "            train_array_path = Path(self.config.train_array_path)\n",
    "            print(\"before loading\")\n",
    "            model = load_object(file_path= model_path)\n",
    "            preprocessor = load_object(file_path=preprocessor_path)\n",
    "            best_parameters = load_object(file_path=best_params_path)\n",
    "            train_array = load_object(file_path= train_array_path)\n",
    "            train_x, train_y = train_array[:,:-1], train_array[:,-1]\n",
    "            model.set_params(**best_parameters)\n",
    "            model.fit(train_x, train_y)\n",
    "            print(\"After loading\")\n",
    "            data_scaled = preprocessor.transform(features)\n",
    "            preds = model.predict(data_scaled)\n",
    "            return preds\n",
    "        except Exception as e:\n",
    "            raise e\n",
    "        \n",
    "    \n",
    "\n",
    "    "
   ]
  },
  {
   "cell_type": "code",
   "execution_count": 9,
   "metadata": {},
   "outputs": [
    {
     "name": "stdout",
     "output_type": "stream",
     "text": [
      " * Serving Flask app '__main__'\n",
      " * Debug mode: on\n",
      "[2024-01-26 16:40:10,723: INFO: _internal: \u001b[31m\u001b[1mWARNING: This is a development server. Do not use it in a production deployment. Use a production WSGI server instead.\u001b[0m\n",
      " * Running on all addresses (0.0.0.0)\n",
      " * Running on http://127.0.0.1:8080\n",
      " * Running on http://192.168.188.20:8080]\n",
      "[2024-01-26 16:40:10,725: INFO: _internal: \u001b[33mPress CTRL+C to quit\u001b[0m]\n",
      "[2024-01-26 16:40:10,878: INFO: _internal:  * Restarting with watchdog (windowsapi)]\n"
     ]
    },
    {
     "ename": "SystemExit",
     "evalue": "1",
     "output_type": "error",
     "traceback": [
      "An exception has occurred, use %tb to see the full traceback.\n",
      "\u001b[1;31mSystemExit\u001b[0m\u001b[1;31m:\u001b[0m 1\n"
     ]
    },
    {
     "name": "stderr",
     "output_type": "stream",
     "text": [
      "c:\\Users\\User\\anaconda3\\Lib\\site-packages\\IPython\\core\\interactiveshell.py:3534: UserWarning: To exit: use 'exit', 'quit', or Ctrl-D.\n",
      "  warn(\"To exit: use 'exit', 'quit', or Ctrl-D.\", stacklevel=1)\n"
     ]
    }
   ],
   "source": [
    "from flask import Flask , render_template, request\n",
    "import os\n",
    "import numpy as np\n",
    "import pandas as pd\n",
    "\n",
    "\n",
    "app = Flask(__name__)\n",
    "\n",
    "@app.route('/', methods=['GET'])\n",
    "def homePage():\n",
    "    return render_template('index.html')\n",
    "\n",
    "@app.route('/train', methods=['GET'])\n",
    "def training():\n",
    "    os.system('python main.py')\n",
    "    return render_template('success.html')\n",
    "\n",
    "@app.route('/predict', methods=['POST', 'GET'])\n",
    "def predict():\n",
    "    if request.method == \"POST\":\n",
    "        try:\n",
    "            data = CustomData(\n",
    "            fixed_acidity = float(request.form.get(\"fixed_acidity\")),\n",
    "            volatile_acidity = float(request.form.get(\"volatile_acidity\")),\n",
    "            citric_acid = float(request.form.get(\"citric_acid\")),\n",
    "            residual_sugar = float(request.form.get(\"residual_sugar\")),\n",
    "            chlorides = float(request.form.get(\"chlorides\")),\n",
    "            free_sulfur_dioxide = float(request.form.get(\"free_sulfur_dioxide\")),\n",
    "            total_sulfur_dioxide = float(request.form.get(\"total_sulfur_dioxide\")),\n",
    "            density = float(request.form.get(\"density\")),\n",
    "            pH = float(request.form.get(\"pH\")),\n",
    "            sulphates = float(request.form.get(\"sulphates\")),\n",
    "            alcohol = float(request.form.get(\"alcohol\"))\n",
    "        )\n",
    "            pred_df = data.get_data_as_data_frame()\n",
    "\n",
    "            pred = predict_data(pred_df)\n",
    "            \n",
    "\n",
    "\n",
    "            return render_template('results.html', prediction = str(round(pred[0],3)))\n",
    "        except Exception as e:\n",
    "            print(f\"The Exception message is : \",e)\n",
    "            return render_template('error.html', error_message = e)\n",
    "\n",
    "\n",
    "if __name__ == \"__main__\":\n",
    "    app.run(host='0.0.0.0', port=8080, debug=True)\n",
    "    # app.run(host='0.0.0.0', port=8080)"
   ]
  }
 ],
 "metadata": {
  "kernelspec": {
   "display_name": "base",
   "language": "python",
   "name": "python3"
  },
  "language_info": {
   "codemirror_mode": {
    "name": "ipython",
    "version": 3
   },
   "file_extension": ".py",
   "mimetype": "text/x-python",
   "name": "python",
   "nbconvert_exporter": "python",
   "pygments_lexer": "ipython3",
   "version": "3.11.5"
  }
 },
 "nbformat": 4,
 "nbformat_minor": 2
}
